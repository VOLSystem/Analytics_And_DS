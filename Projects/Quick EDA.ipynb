{
 "cells": [
  {
   "cell_type": "markdown",
   "id": "ca8289ed",
   "metadata": {},
   "source": [
    "# Making sense of an unknown dataset"
   ]
  },
  {
   "cell_type": "code",
   "execution_count": 56,
   "id": "3ca438f6",
   "metadata": {},
   "outputs": [],
   "source": [
    "import pandas as pd\n",
    "import plotly.express as px"
   ]
  },
  {
   "cell_type": "markdown",
   "id": "9dceed9a",
   "metadata": {},
   "source": [
    "Data chosen: CA Transit Operator Revenues from [Data.gov](Data.gov)\n",
    "Read CSV to Dataframe and check basic stats"
   ]
  },
  {
   "cell_type": "code",
   "execution_count": 4,
   "id": "c9fd4dea",
   "metadata": {},
   "outputs": [
    {
     "data": {
      "text/plain": [
       "Index(['Entity Name', 'Fiscal Year', 'Type', 'Form/Table', 'Category',\n",
       "       'Subcategory', 'Line Description', 'Value', 'City, State', 'Zip Code',\n",
       "       'Row Number'],\n",
       "      dtype='object')"
      ]
     },
     "execution_count": 4,
     "metadata": {},
     "output_type": "execute_result"
    }
   ],
   "source": [
    "df = pd.read_csv('https://bythenumbers.sco.ca.gov/api/views/kswn-qt8j/rows.csv')\n",
    "df.columns\n"
   ]
  },
  {
   "cell_type": "code",
   "execution_count": 53,
   "id": "a52a5913",
   "metadata": {},
   "outputs": [
    {
     "data": {
      "text/plain": [
       "Entity Name         object\n",
       "Fiscal Year          int64\n",
       "Type                object\n",
       "Form/Table          object\n",
       "Category            object\n",
       "Subcategory         object\n",
       "Line Description    object\n",
       "Value                int64\n",
       "City, State         object\n",
       "Zip Code            object\n",
       "Row Number           int64\n",
       "dtype: object"
      ]
     },
     "execution_count": 53,
     "metadata": {},
     "output_type": "execute_result"
    }
   ],
   "source": [
    "df.dtypes"
   ]
  },
  {
   "cell_type": "code",
   "execution_count": 7,
   "id": "0c92d323",
   "metadata": {},
   "outputs": [
    {
     "data": {
      "text/plain": [
       "Entity Name         0\n",
       "Fiscal Year         0\n",
       "Type                0\n",
       "Form/Table          0\n",
       "Category            0\n",
       "Subcategory         0\n",
       "Line Description    0\n",
       "Value               0\n",
       "City, State         0\n",
       "Zip Code            0\n",
       "Row Number          0\n",
       "dtype: int64"
      ]
     },
     "execution_count": 7,
     "metadata": {},
     "output_type": "execute_result"
    }
   ],
   "source": [
    "df.isnull().sum()"
   ]
  },
  {
   "cell_type": "code",
   "execution_count": 8,
   "id": "d87cb47e",
   "metadata": {},
   "outputs": [
    {
     "data": {
      "text/html": [
       "<div>\n",
       "<style scoped>\n",
       "    .dataframe tbody tr th:only-of-type {\n",
       "        vertical-align: middle;\n",
       "    }\n",
       "\n",
       "    .dataframe tbody tr th {\n",
       "        vertical-align: top;\n",
       "    }\n",
       "\n",
       "    .dataframe thead th {\n",
       "        text-align: right;\n",
       "    }\n",
       "</style>\n",
       "<table border=\"1\" class=\"dataframe\">\n",
       "  <thead>\n",
       "    <tr style=\"text-align: right;\">\n",
       "      <th></th>\n",
       "      <th>Entity Name</th>\n",
       "      <th>Fiscal Year</th>\n",
       "      <th>Type</th>\n",
       "      <th>Form/Table</th>\n",
       "      <th>Category</th>\n",
       "      <th>Subcategory</th>\n",
       "      <th>Line Description</th>\n",
       "      <th>Value</th>\n",
       "      <th>City, State</th>\n",
       "      <th>Zip Code</th>\n",
       "      <th>Row Number</th>\n",
       "    </tr>\n",
       "  </thead>\n",
       "  <tbody>\n",
       "    <tr>\n",
       "      <th>0</th>\n",
       "      <td>Access Services for Los Angeles County CTSA - ...</td>\n",
       "      <td>2017</td>\n",
       "      <td>Revenues</td>\n",
       "      <td>TO_INCOME_STAT_OPREV</td>\n",
       "      <td>Operating Revenue</td>\n",
       "      <td>Revenue</td>\n",
       "      <td>Passenger Fare for Transit Service</td>\n",
       "      <td>9971132</td>\n",
       "      <td>El Monte, CA</td>\n",
       "      <td>902493005</td>\n",
       "      <td>20171322159</td>\n",
       "    </tr>\n",
       "    <tr>\n",
       "      <th>1</th>\n",
       "      <td>Access Services for Los Angeles County CTSA - ...</td>\n",
       "      <td>2017</td>\n",
       "      <td>Revenues</td>\n",
       "      <td>TO_INCOME_STAT_OPREV</td>\n",
       "      <td>Operating Revenue</td>\n",
       "      <td>Revenue</td>\n",
       "      <td>Special Transit Fares</td>\n",
       "      <td>0</td>\n",
       "      <td>El Monte, CA</td>\n",
       "      <td>902493005</td>\n",
       "      <td>20171322158</td>\n",
       "    </tr>\n",
       "    <tr>\n",
       "      <th>2</th>\n",
       "      <td>Access Services for Los Angeles County CTSA - ...</td>\n",
       "      <td>2017</td>\n",
       "      <td>Revenues</td>\n",
       "      <td>TO_INCOME_STAT_OPREV</td>\n",
       "      <td>Operating Revenue</td>\n",
       "      <td>Revenue</td>\n",
       "      <td>School Bus Service Revenues</td>\n",
       "      <td>0</td>\n",
       "      <td>El Monte, CA</td>\n",
       "      <td>902493005</td>\n",
       "      <td>20171322157</td>\n",
       "    </tr>\n",
       "    <tr>\n",
       "      <th>3</th>\n",
       "      <td>Access Services for Los Angeles County CTSA - ...</td>\n",
       "      <td>2017</td>\n",
       "      <td>Revenues</td>\n",
       "      <td>TO_INCOME_STAT_OPREV</td>\n",
       "      <td>Operating Revenue</td>\n",
       "      <td>Revenue</td>\n",
       "      <td>Freight Tariffs</td>\n",
       "      <td>0</td>\n",
       "      <td>El Monte, CA</td>\n",
       "      <td>902493005</td>\n",
       "      <td>20171322156</td>\n",
       "    </tr>\n",
       "    <tr>\n",
       "      <th>4</th>\n",
       "      <td>Access Services for Los Angeles County CTSA - ...</td>\n",
       "      <td>2017</td>\n",
       "      <td>Revenues</td>\n",
       "      <td>TO_INCOME_STAT_OPREV</td>\n",
       "      <td>Operating Revenue</td>\n",
       "      <td>Revenue</td>\n",
       "      <td>Charter Service Revenues</td>\n",
       "      <td>0</td>\n",
       "      <td>El Monte, CA</td>\n",
       "      <td>902493005</td>\n",
       "      <td>20171322155</td>\n",
       "    </tr>\n",
       "  </tbody>\n",
       "</table>\n",
       "</div>"
      ],
      "text/plain": [
       "                                         Entity Name  Fiscal Year      Type  \\\n",
       "0  Access Services for Los Angeles County CTSA - ...         2017  Revenues   \n",
       "1  Access Services for Los Angeles County CTSA - ...         2017  Revenues   \n",
       "2  Access Services for Los Angeles County CTSA - ...         2017  Revenues   \n",
       "3  Access Services for Los Angeles County CTSA - ...         2017  Revenues   \n",
       "4  Access Services for Los Angeles County CTSA - ...         2017  Revenues   \n",
       "\n",
       "             Form/Table           Category Subcategory  \\\n",
       "0  TO_INCOME_STAT_OPREV  Operating Revenue     Revenue   \n",
       "1  TO_INCOME_STAT_OPREV  Operating Revenue     Revenue   \n",
       "2  TO_INCOME_STAT_OPREV  Operating Revenue     Revenue   \n",
       "3  TO_INCOME_STAT_OPREV  Operating Revenue     Revenue   \n",
       "4  TO_INCOME_STAT_OPREV  Operating Revenue     Revenue   \n",
       "\n",
       "                     Line Description    Value   City, State   Zip Code  \\\n",
       "0  Passenger Fare for Transit Service  9971132  El Monte, CA  902493005   \n",
       "1               Special Transit Fares        0  El Monte, CA  902493005   \n",
       "2         School Bus Service Revenues        0  El Monte, CA  902493005   \n",
       "3                     Freight Tariffs        0  El Monte, CA  902493005   \n",
       "4            Charter Service Revenues        0  El Monte, CA  902493005   \n",
       "\n",
       "    Row Number  \n",
       "0  20171322159  \n",
       "1  20171322158  \n",
       "2  20171322157  \n",
       "3  20171322156  \n",
       "4  20171322155  "
      ]
     },
     "execution_count": 8,
     "metadata": {},
     "output_type": "execute_result"
    }
   ],
   "source": [
    "df.head()"
   ]
  },
  {
   "cell_type": "markdown",
   "id": "60b0697b",
   "metadata": {},
   "source": [
    "Look at the Top Entity for each year"
   ]
  },
  {
   "cell_type": "code",
   "execution_count": 48,
   "id": "591e71c6",
   "metadata": {},
   "outputs": [
    {
     "data": {
      "text/html": [
       "<div>\n",
       "<style scoped>\n",
       "    .dataframe tbody tr th:only-of-type {\n",
       "        vertical-align: middle;\n",
       "    }\n",
       "\n",
       "    .dataframe tbody tr th {\n",
       "        vertical-align: top;\n",
       "    }\n",
       "\n",
       "    .dataframe thead th {\n",
       "        text-align: right;\n",
       "    }\n",
       "</style>\n",
       "<table border=\"1\" class=\"dataframe\">\n",
       "  <thead>\n",
       "    <tr style=\"text-align: right;\">\n",
       "      <th></th>\n",
       "      <th></th>\n",
       "      <th>Entity Name</th>\n",
       "      <th>Fiscal Year</th>\n",
       "      <th>Type</th>\n",
       "      <th>Form/Table</th>\n",
       "      <th>Category</th>\n",
       "      <th>Subcategory</th>\n",
       "      <th>Line Description</th>\n",
       "      <th>Value</th>\n",
       "      <th>City, State</th>\n",
       "      <th>Zip Code</th>\n",
       "      <th>Row Number</th>\n",
       "    </tr>\n",
       "    <tr>\n",
       "      <th>Fiscal Year</th>\n",
       "      <th></th>\n",
       "      <th></th>\n",
       "      <th></th>\n",
       "      <th></th>\n",
       "      <th></th>\n",
       "      <th></th>\n",
       "      <th></th>\n",
       "      <th></th>\n",
       "      <th></th>\n",
       "      <th></th>\n",
       "      <th></th>\n",
       "      <th></th>\n",
       "    </tr>\n",
       "  </thead>\n",
       "  <tbody>\n",
       "    <tr>\n",
       "      <th>2003</th>\n",
       "      <th>174829</th>\n",
       "      <td>Los Angeles County Metropolitan Transportation...</td>\n",
       "      <td>2003</td>\n",
       "      <td>Revenues</td>\n",
       "      <td>TO_INCOME_STAT_OPREV</td>\n",
       "      <td>Operating Revenue</td>\n",
       "      <td>Taxes Levied Directly by Transit System</td>\n",
       "      <td>Local Sales Tax</td>\n",
       "      <td>348770291</td>\n",
       "      <td>Los Angeles, CA</td>\n",
       "      <td>90028</td>\n",
       "      <td>20031180148</td>\n",
       "    </tr>\n",
       "    <tr>\n",
       "      <th>2004</th>\n",
       "      <th>163872</th>\n",
       "      <td>Los Angeles County Metropolitan Transportation...</td>\n",
       "      <td>2004</td>\n",
       "      <td>Revenues</td>\n",
       "      <td>TO_INCOME_STAT_OPREV</td>\n",
       "      <td>Operating Revenue</td>\n",
       "      <td>Taxes Levied Directly by Transit System</td>\n",
       "      <td>Local Sales Tax</td>\n",
       "      <td>354875665</td>\n",
       "      <td>Los Angeles, CA</td>\n",
       "      <td>90028</td>\n",
       "      <td>20041180148</td>\n",
       "    </tr>\n",
       "    <tr>\n",
       "      <th>2005</th>\n",
       "      <th>152963</th>\n",
       "      <td>Los Angeles County Metropolitan Transportation...</td>\n",
       "      <td>2005</td>\n",
       "      <td>Revenues</td>\n",
       "      <td>TO_INCOME_STAT_OPREV</td>\n",
       "      <td>Operating Revenue</td>\n",
       "      <td>Taxes Levied Directly by Transit System</td>\n",
       "      <td>Local Sales Tax</td>\n",
       "      <td>449992918</td>\n",
       "      <td>Los Angeles, CA</td>\n",
       "      <td>90028</td>\n",
       "      <td>20051180148</td>\n",
       "    </tr>\n",
       "    <tr>\n",
       "      <th>2006</th>\n",
       "      <th>142089</th>\n",
       "      <td>Los Angeles County Metropolitan Transportation...</td>\n",
       "      <td>2006</td>\n",
       "      <td>Revenues</td>\n",
       "      <td>TO_INCOME_STAT_OPREV</td>\n",
       "      <td>Operating Revenue</td>\n",
       "      <td>Taxes Levied Directly by Transit System</td>\n",
       "      <td>Local Sales Tax</td>\n",
       "      <td>492676154</td>\n",
       "      <td>Los Angeles, CA</td>\n",
       "      <td>90028</td>\n",
       "      <td>20061180148</td>\n",
       "    </tr>\n",
       "    <tr>\n",
       "      <th>2007</th>\n",
       "      <th>130909</th>\n",
       "      <td>Los Angeles County Metropolitan Transportation...</td>\n",
       "      <td>2007</td>\n",
       "      <td>Revenues</td>\n",
       "      <td>TO_INCOME_STAT_OPREV</td>\n",
       "      <td>Operating Revenue</td>\n",
       "      <td>Taxes Levied Directly by Transit System</td>\n",
       "      <td>Local Sales Tax</td>\n",
       "      <td>454943496</td>\n",
       "      <td>Los Angeles, CA</td>\n",
       "      <td>90028</td>\n",
       "      <td>20071180148</td>\n",
       "    </tr>\n",
       "    <tr>\n",
       "      <th>2008</th>\n",
       "      <th>119821</th>\n",
       "      <td>Los Angeles County Metropolitan Transportation...</td>\n",
       "      <td>2008</td>\n",
       "      <td>Revenues</td>\n",
       "      <td>TO_INCOME_STAT_OPREV</td>\n",
       "      <td>Operating Revenue</td>\n",
       "      <td>Taxes Levied Directly by Transit System</td>\n",
       "      <td>Local Sales Tax</td>\n",
       "      <td>357134546</td>\n",
       "      <td>Los Angeles, CA</td>\n",
       "      <td>90028</td>\n",
       "      <td>20081180148</td>\n",
       "    </tr>\n",
       "    <tr>\n",
       "      <th>2009</th>\n",
       "      <th>108755</th>\n",
       "      <td>Los Angeles County Metropolitan Transportation...</td>\n",
       "      <td>2009</td>\n",
       "      <td>Revenues</td>\n",
       "      <td>TO_INCOME_STAT_OPREV</td>\n",
       "      <td>Operating Revenue</td>\n",
       "      <td>Taxes Levied Directly by Transit System</td>\n",
       "      <td>Local Sales Tax</td>\n",
       "      <td>357504403</td>\n",
       "      <td>Los Angeles, CA</td>\n",
       "      <td>90028</td>\n",
       "      <td>20091180148</td>\n",
       "    </tr>\n",
       "    <tr>\n",
       "      <th>2010</th>\n",
       "      <th>97767</th>\n",
       "      <td>Los Angeles County Metropolitan Transportation...</td>\n",
       "      <td>2010</td>\n",
       "      <td>Revenues</td>\n",
       "      <td>TO_INCOME_STAT_OPREV</td>\n",
       "      <td>Operating Revenue</td>\n",
       "      <td>Taxes Levied Directly by Transit System</td>\n",
       "      <td>Local Sales Tax</td>\n",
       "      <td>420510125</td>\n",
       "      <td>Los Angeles, CA</td>\n",
       "      <td>90028</td>\n",
       "      <td>20101180148</td>\n",
       "    </tr>\n",
       "    <tr>\n",
       "      <th>2011</th>\n",
       "      <th>86774</th>\n",
       "      <td>Los Angeles County Metropolitan Transportation...</td>\n",
       "      <td>2011</td>\n",
       "      <td>Revenues</td>\n",
       "      <td>TO_CAPITAL_ADDITIONS_EQUITY</td>\n",
       "      <td>Capital Addition to Equity</td>\n",
       "      <td>Local Capital Grants, Subventions, and Provisions</td>\n",
       "      <td>Property, Motor Vehicle Fuel, and Sales Tax (I...</td>\n",
       "      <td>479918621</td>\n",
       "      <td>Los Angeles, CA</td>\n",
       "      <td>90028</td>\n",
       "      <td>20111180122</td>\n",
       "    </tr>\n",
       "    <tr>\n",
       "      <th>2012</th>\n",
       "      <th>75783</th>\n",
       "      <td>Los Angeles County Metropolitan Transportation...</td>\n",
       "      <td>2012</td>\n",
       "      <td>Revenues</td>\n",
       "      <td>TO_CAPITAL_ADDITIONS_EQUITY</td>\n",
       "      <td>Capital Addition to Equity</td>\n",
       "      <td>Local Capital Grants, Subventions, and Provisions</td>\n",
       "      <td>Property, Motor Vehicle Fuel, and Sales Tax (I...</td>\n",
       "      <td>384853163</td>\n",
       "      <td>Los Angeles, CA</td>\n",
       "      <td>90028</td>\n",
       "      <td>20121180122</td>\n",
       "    </tr>\n",
       "    <tr>\n",
       "      <th>2013</th>\n",
       "      <th>64750</th>\n",
       "      <td>Los Angeles County Metropolitan Transportation...</td>\n",
       "      <td>2013</td>\n",
       "      <td>Revenues</td>\n",
       "      <td>TO_CAPITAL_ADDITIONS_EQUITY</td>\n",
       "      <td>Capital Addition to Equity</td>\n",
       "      <td>Local Capital Grants, Subventions, and Provisions</td>\n",
       "      <td>Property, Motor Vehicle Fuel, and Sales Tax (I...</td>\n",
       "      <td>428751542</td>\n",
       "      <td>Los Angeles, CA</td>\n",
       "      <td>90028</td>\n",
       "      <td>20131180122</td>\n",
       "    </tr>\n",
       "    <tr>\n",
       "      <th>2014</th>\n",
       "      <th>53724</th>\n",
       "      <td>Los Angeles County Metropolitan Transportation...</td>\n",
       "      <td>2014</td>\n",
       "      <td>Revenues</td>\n",
       "      <td>TO_CAPITAL_ADDITIONS_EQUITY</td>\n",
       "      <td>Capital Addition to Equity</td>\n",
       "      <td>Local Capital Grants, Subventions, and Provisions</td>\n",
       "      <td>Property, Motor Vehicle Fuel, and Sales Tax (I...</td>\n",
       "      <td>963468800</td>\n",
       "      <td>Los Angeles, CA</td>\n",
       "      <td>90028</td>\n",
       "      <td>20141180122</td>\n",
       "    </tr>\n",
       "    <tr>\n",
       "      <th>2015</th>\n",
       "      <th>42567</th>\n",
       "      <td>Los Angeles County Metropolitan Transportation...</td>\n",
       "      <td>2015</td>\n",
       "      <td>Revenues</td>\n",
       "      <td>TO_CAPITAL_ADDITIONS_EQUITY</td>\n",
       "      <td>Capital Addition to Equity</td>\n",
       "      <td>Local Capital Grants, Subventions, and Provisions</td>\n",
       "      <td>Property, Motor Vehicle Fuel, and Sales Tax (I...</td>\n",
       "      <td>1005530911</td>\n",
       "      <td>Los Angeles, CA</td>\n",
       "      <td>90028</td>\n",
       "      <td>20151180122</td>\n",
       "    </tr>\n",
       "    <tr>\n",
       "      <th>2016</th>\n",
       "      <th>16143</th>\n",
       "      <td>Los Angeles County Metropolitan Transportation...</td>\n",
       "      <td>2016</td>\n",
       "      <td>Revenues</td>\n",
       "      <td>TO_INCOME_STAT_OPREV</td>\n",
       "      <td>Operating Revenue</td>\n",
       "      <td>Taxes Levied Directly by Transit System</td>\n",
       "      <td>Local Sales Tax</td>\n",
       "      <td>786101146</td>\n",
       "      <td>Los Angeles, CA</td>\n",
       "      <td>90028</td>\n",
       "      <td>20161180148</td>\n",
       "    </tr>\n",
       "    <tr>\n",
       "      <th>2017</th>\n",
       "      <th>4685</th>\n",
       "      <td>Los Angeles County Metropolitan Transportation...</td>\n",
       "      <td>2017</td>\n",
       "      <td>Revenues</td>\n",
       "      <td>TO_INCOME_STAT_OPREV</td>\n",
       "      <td>Operating Revenue</td>\n",
       "      <td>Taxes Levied Directly by Transit System</td>\n",
       "      <td>Local Sales Tax</td>\n",
       "      <td>799818521</td>\n",
       "      <td>Los Angeles, CA</td>\n",
       "      <td>90028</td>\n",
       "      <td>20171180148</td>\n",
       "    </tr>\n",
       "    <tr>\n",
       "      <th>2018</th>\n",
       "      <th>28434</th>\n",
       "      <td>Los Angeles County Metropolitan Transportation...</td>\n",
       "      <td>2018</td>\n",
       "      <td>Revenues</td>\n",
       "      <td>Statement of Revenues, Expenses, and Change in...</td>\n",
       "      <td>Nonoperating Revenues</td>\n",
       "      <td>Local Government Funds</td>\n",
       "      <td>Local Funds Dedicated to Transit at Their Source</td>\n",
       "      <td>793627833</td>\n",
       "      <td>Los Angeles, CA</td>\n",
       "      <td>90012-2652</td>\n",
       "      <td>201811641017</td>\n",
       "    </tr>\n",
       "    <tr>\n",
       "      <th>2019</th>\n",
       "      <th>22968</th>\n",
       "      <td>San Francisco Bay Area Rapid Transit District</td>\n",
       "      <td>2019</td>\n",
       "      <td>Revenues</td>\n",
       "      <td>Statement of Revenues, Expenses, and Change in...</td>\n",
       "      <td>Operating Revenues</td>\n",
       "      <td>Passenger Fares</td>\n",
       "      <td>Passenger Fares</td>\n",
       "      <td>481786143</td>\n",
       "      <td>Oakland, CA</td>\n",
       "      <td>94604-2688</td>\n",
       "      <td>201910871027</td>\n",
       "    </tr>\n",
       "    <tr>\n",
       "      <th>2020</th>\n",
       "      <th>184125</th>\n",
       "      <td>Los Angeles County Metropolitan Transportation...</td>\n",
       "      <td>2020</td>\n",
       "      <td>Revenues</td>\n",
       "      <td>Statement of Revenues, Expenses, and Change in...</td>\n",
       "      <td>Nonoperating Revenues</td>\n",
       "      <td>Federal Funds</td>\n",
       "      <td>Funds for Capital Assistance</td>\n",
       "      <td>672642009</td>\n",
       "      <td>Los Angeles, CA</td>\n",
       "      <td>90012-2652</td>\n",
       "      <td>202011681010</td>\n",
       "    </tr>\n",
       "    <tr>\n",
       "      <th>2021</th>\n",
       "      <th>191576</th>\n",
       "      <td>Los Angeles County Metropolitan Transportation...</td>\n",
       "      <td>2021</td>\n",
       "      <td>Revenues</td>\n",
       "      <td>Statement of Revenues, Expenses, and Change in...</td>\n",
       "      <td>Nonoperating Revenues</td>\n",
       "      <td>Federal Funds</td>\n",
       "      <td>Other Federal Funds</td>\n",
       "      <td>842421745</td>\n",
       "      <td>Los Angeles, CA</td>\n",
       "      <td>90012-2652</td>\n",
       "      <td>202111741008</td>\n",
       "    </tr>\n",
       "  </tbody>\n",
       "</table>\n",
       "</div>"
      ],
      "text/plain": [
       "                                                          Entity Name  \\\n",
       "Fiscal Year                                                             \n",
       "2003        174829  Los Angeles County Metropolitan Transportation...   \n",
       "2004        163872  Los Angeles County Metropolitan Transportation...   \n",
       "2005        152963  Los Angeles County Metropolitan Transportation...   \n",
       "2006        142089  Los Angeles County Metropolitan Transportation...   \n",
       "2007        130909  Los Angeles County Metropolitan Transportation...   \n",
       "2008        119821  Los Angeles County Metropolitan Transportation...   \n",
       "2009        108755  Los Angeles County Metropolitan Transportation...   \n",
       "2010        97767   Los Angeles County Metropolitan Transportation...   \n",
       "2011        86774   Los Angeles County Metropolitan Transportation...   \n",
       "2012        75783   Los Angeles County Metropolitan Transportation...   \n",
       "2013        64750   Los Angeles County Metropolitan Transportation...   \n",
       "2014        53724   Los Angeles County Metropolitan Transportation...   \n",
       "2015        42567   Los Angeles County Metropolitan Transportation...   \n",
       "2016        16143   Los Angeles County Metropolitan Transportation...   \n",
       "2017        4685    Los Angeles County Metropolitan Transportation...   \n",
       "2018        28434   Los Angeles County Metropolitan Transportation...   \n",
       "2019        22968       San Francisco Bay Area Rapid Transit District   \n",
       "2020        184125  Los Angeles County Metropolitan Transportation...   \n",
       "2021        191576  Los Angeles County Metropolitan Transportation...   \n",
       "\n",
       "                    Fiscal Year      Type  \\\n",
       "Fiscal Year                                 \n",
       "2003        174829         2003  Revenues   \n",
       "2004        163872         2004  Revenues   \n",
       "2005        152963         2005  Revenues   \n",
       "2006        142089         2006  Revenues   \n",
       "2007        130909         2007  Revenues   \n",
       "2008        119821         2008  Revenues   \n",
       "2009        108755         2009  Revenues   \n",
       "2010        97767          2010  Revenues   \n",
       "2011        86774          2011  Revenues   \n",
       "2012        75783          2012  Revenues   \n",
       "2013        64750          2013  Revenues   \n",
       "2014        53724          2014  Revenues   \n",
       "2015        42567          2015  Revenues   \n",
       "2016        16143          2016  Revenues   \n",
       "2017        4685           2017  Revenues   \n",
       "2018        28434          2018  Revenues   \n",
       "2019        22968          2019  Revenues   \n",
       "2020        184125         2020  Revenues   \n",
       "2021        191576         2021  Revenues   \n",
       "\n",
       "                                                           Form/Table  \\\n",
       "Fiscal Year                                                             \n",
       "2003        174829                               TO_INCOME_STAT_OPREV   \n",
       "2004        163872                               TO_INCOME_STAT_OPREV   \n",
       "2005        152963                               TO_INCOME_STAT_OPREV   \n",
       "2006        142089                               TO_INCOME_STAT_OPREV   \n",
       "2007        130909                               TO_INCOME_STAT_OPREV   \n",
       "2008        119821                               TO_INCOME_STAT_OPREV   \n",
       "2009        108755                               TO_INCOME_STAT_OPREV   \n",
       "2010        97767                                TO_INCOME_STAT_OPREV   \n",
       "2011        86774                         TO_CAPITAL_ADDITIONS_EQUITY   \n",
       "2012        75783                         TO_CAPITAL_ADDITIONS_EQUITY   \n",
       "2013        64750                         TO_CAPITAL_ADDITIONS_EQUITY   \n",
       "2014        53724                         TO_CAPITAL_ADDITIONS_EQUITY   \n",
       "2015        42567                         TO_CAPITAL_ADDITIONS_EQUITY   \n",
       "2016        16143                                TO_INCOME_STAT_OPREV   \n",
       "2017        4685                                 TO_INCOME_STAT_OPREV   \n",
       "2018        28434   Statement of Revenues, Expenses, and Change in...   \n",
       "2019        22968   Statement of Revenues, Expenses, and Change in...   \n",
       "2020        184125  Statement of Revenues, Expenses, and Change in...   \n",
       "2021        191576  Statement of Revenues, Expenses, and Change in...   \n",
       "\n",
       "                                      Category  \\\n",
       "Fiscal Year                                      \n",
       "2003        174829           Operating Revenue   \n",
       "2004        163872           Operating Revenue   \n",
       "2005        152963           Operating Revenue   \n",
       "2006        142089           Operating Revenue   \n",
       "2007        130909           Operating Revenue   \n",
       "2008        119821           Operating Revenue   \n",
       "2009        108755           Operating Revenue   \n",
       "2010        97767            Operating Revenue   \n",
       "2011        86774   Capital Addition to Equity   \n",
       "2012        75783   Capital Addition to Equity   \n",
       "2013        64750   Capital Addition to Equity   \n",
       "2014        53724   Capital Addition to Equity   \n",
       "2015        42567   Capital Addition to Equity   \n",
       "2016        16143            Operating Revenue   \n",
       "2017        4685             Operating Revenue   \n",
       "2018        28434        Nonoperating Revenues   \n",
       "2019        22968           Operating Revenues   \n",
       "2020        184125       Nonoperating Revenues   \n",
       "2021        191576       Nonoperating Revenues   \n",
       "\n",
       "                                                          Subcategory  \\\n",
       "Fiscal Year                                                             \n",
       "2003        174829            Taxes Levied Directly by Transit System   \n",
       "2004        163872            Taxes Levied Directly by Transit System   \n",
       "2005        152963            Taxes Levied Directly by Transit System   \n",
       "2006        142089            Taxes Levied Directly by Transit System   \n",
       "2007        130909            Taxes Levied Directly by Transit System   \n",
       "2008        119821            Taxes Levied Directly by Transit System   \n",
       "2009        108755            Taxes Levied Directly by Transit System   \n",
       "2010        97767             Taxes Levied Directly by Transit System   \n",
       "2011        86774   Local Capital Grants, Subventions, and Provisions   \n",
       "2012        75783   Local Capital Grants, Subventions, and Provisions   \n",
       "2013        64750   Local Capital Grants, Subventions, and Provisions   \n",
       "2014        53724   Local Capital Grants, Subventions, and Provisions   \n",
       "2015        42567   Local Capital Grants, Subventions, and Provisions   \n",
       "2016        16143             Taxes Levied Directly by Transit System   \n",
       "2017        4685              Taxes Levied Directly by Transit System   \n",
       "2018        28434                              Local Government Funds   \n",
       "2019        22968                                     Passenger Fares   \n",
       "2020        184125                                      Federal Funds   \n",
       "2021        191576                                      Federal Funds   \n",
       "\n",
       "                                                     Line Description  \\\n",
       "Fiscal Year                                                             \n",
       "2003        174829                                    Local Sales Tax   \n",
       "2004        163872                                    Local Sales Tax   \n",
       "2005        152963                                    Local Sales Tax   \n",
       "2006        142089                                    Local Sales Tax   \n",
       "2007        130909                                    Local Sales Tax   \n",
       "2008        119821                                    Local Sales Tax   \n",
       "2009        108755                                    Local Sales Tax   \n",
       "2010        97767                                     Local Sales Tax   \n",
       "2011        86774   Property, Motor Vehicle Fuel, and Sales Tax (I...   \n",
       "2012        75783   Property, Motor Vehicle Fuel, and Sales Tax (I...   \n",
       "2013        64750   Property, Motor Vehicle Fuel, and Sales Tax (I...   \n",
       "2014        53724   Property, Motor Vehicle Fuel, and Sales Tax (I...   \n",
       "2015        42567   Property, Motor Vehicle Fuel, and Sales Tax (I...   \n",
       "2016        16143                                     Local Sales Tax   \n",
       "2017        4685                                      Local Sales Tax   \n",
       "2018        28434    Local Funds Dedicated to Transit at Their Source   \n",
       "2019        22968                                     Passenger Fares   \n",
       "2020        184125                       Funds for Capital Assistance   \n",
       "2021        191576                                Other Federal Funds   \n",
       "\n",
       "                         Value      City, State    Zip Code    Row Number  \n",
       "Fiscal Year                                                                \n",
       "2003        174829   348770291  Los Angeles, CA       90028   20031180148  \n",
       "2004        163872   354875665  Los Angeles, CA       90028   20041180148  \n",
       "2005        152963   449992918  Los Angeles, CA       90028   20051180148  \n",
       "2006        142089   492676154  Los Angeles, CA       90028   20061180148  \n",
       "2007        130909   454943496  Los Angeles, CA       90028   20071180148  \n",
       "2008        119821   357134546  Los Angeles, CA       90028   20081180148  \n",
       "2009        108755   357504403  Los Angeles, CA       90028   20091180148  \n",
       "2010        97767    420510125  Los Angeles, CA       90028   20101180148  \n",
       "2011        86774    479918621  Los Angeles, CA       90028   20111180122  \n",
       "2012        75783    384853163  Los Angeles, CA       90028   20121180122  \n",
       "2013        64750    428751542  Los Angeles, CA       90028   20131180122  \n",
       "2014        53724    963468800  Los Angeles, CA       90028   20141180122  \n",
       "2015        42567   1005530911  Los Angeles, CA       90028   20151180122  \n",
       "2016        16143    786101146  Los Angeles, CA       90028   20161180148  \n",
       "2017        4685     799818521  Los Angeles, CA       90028   20171180148  \n",
       "2018        28434    793627833  Los Angeles, CA  90012-2652  201811641017  \n",
       "2019        22968    481786143      Oakland, CA  94604-2688  201910871027  \n",
       "2020        184125   672642009  Los Angeles, CA  90012-2652  202011681010  \n",
       "2021        191576   842421745  Los Angeles, CA  90012-2652  202111741008  "
      ]
     },
     "execution_count": 48,
     "metadata": {},
     "output_type": "execute_result"
    }
   ],
   "source": [
    "df.groupby('Fiscal Year').apply(lambda x: x.nlargest(1, 'Value'))"
   ]
  },
  {
   "cell_type": "markdown",
   "id": "4bacf28d",
   "metadata": {},
   "source": [
    "Look at top 10 state entities by average revenue"
   ]
  },
  {
   "cell_type": "code",
   "execution_count": 85,
   "id": "1adeba10",
   "metadata": {},
   "outputs": [
    {
     "data": {
      "text/plain": [
       "Entity Name\n",
       "Los Angeles County Metropolitan Transportation Authority             49736841.46\n",
       "San Francisco Bay Area Rapid Transit District                        24386215.21\n",
       "San Francisco                                                        19642480.05\n",
       "Santa Clara Valley Transportation Authority                          15515977.62\n",
       "Alameda-Contra Costa Transit District                                10667723.08\n",
       "Orange County Transportation Authority                                7178124.45\n",
       "Southern California Regional Rail Authority                           6601347.04\n",
       "Peninsula Corridor Joint Powers Board                                 5309230.61\n",
       "Sacramento Regional Transit System                                    4677963.20\n",
       "Access Services for Los Angeles County CTSA - Specialized Service     4674739.22\n",
       "Name: Value, dtype: float64"
      ]
     },
     "execution_count": 85,
     "metadata": {},
     "output_type": "execute_result"
    }
   ],
   "source": [
    "df.groupby('Entity Name')['Value'].mean().nlargest(10).round(2)"
   ]
  },
  {
   "cell_type": "code",
   "execution_count": 82,
   "id": "e0243f16",
   "metadata": {},
   "outputs": [
    {
     "data": {
      "application/vnd.plotly.v1+json": {
       "config": {
        "plotlyServerURL": "https://plot.ly"
       },
       "data": [
        {
         "alignmentgroup": "True",
         "hovertemplate": "Entity Name=%{x}<br>value=%{y}<br>color=%{marker.color}<extra></extra>",
         "legendgroup": "",
         "marker": {
          "color": [
           0,
           1,
           2,
           3,
           4,
           5,
           6,
           7,
           8,
           9
          ],
          "coloraxis": "coloraxis",
          "pattern": {
           "shape": ""
          }
         },
         "name": "",
         "offsetgroup": "",
         "orientation": "v",
         "showlegend": false,
         "textposition": "auto",
         "type": "bar",
         "x": [
          "Los Angeles County Metropolitan Transportation Authority",
          "San Francisco Bay Area Rapid Transit District",
          "San Francisco",
          "Santa Clara Valley Transportation Authority",
          "Alameda-Contra Costa Transit District",
          "Orange County Transportation Authority",
          "Southern California Regional Rail Authority",
          "Peninsula Corridor Joint Powers Board",
          "Sacramento Regional Transit System",
          "Access Services for Los Angeles County CTSA - Specialized Service"
         ],
         "xaxis": "x",
         "y": [
          49736841.46196404,
          24386215.21300138,
          19642480.04702628,
          15515977.621023513,
          10667723.080221301,
          7178124.446749655,
          6601347.035961272,
          5309230.611341632,
          4677963.203319502,
          4674739.220588235
         ],
         "yaxis": "y"
        }
       ],
       "layout": {
        "barmode": "relative",
        "coloraxis": {
         "colorbar": {
          "title": {
           "text": "color"
          }
         },
         "colorscale": [
          [
           0,
           "#0d0887"
          ],
          [
           0.1111111111111111,
           "#46039f"
          ],
          [
           0.2222222222222222,
           "#7201a8"
          ],
          [
           0.3333333333333333,
           "#9c179e"
          ],
          [
           0.4444444444444444,
           "#bd3786"
          ],
          [
           0.5555555555555556,
           "#d8576b"
          ],
          [
           0.6666666666666666,
           "#ed7953"
          ],
          [
           0.7777777777777778,
           "#fb9f3a"
          ],
          [
           0.8888888888888888,
           "#fdca26"
          ],
          [
           1,
           "#f0f921"
          ]
         ],
         "showscale": false
        },
        "legend": {
         "tracegroupgap": 0
        },
        "margin": {
         "t": 60
        },
        "template": {
         "data": {
          "bar": [
           {
            "error_x": {
             "color": "#2a3f5f"
            },
            "error_y": {
             "color": "#2a3f5f"
            },
            "marker": {
             "line": {
              "color": "#E5ECF6",
              "width": 0.5
             },
             "pattern": {
              "fillmode": "overlay",
              "size": 10,
              "solidity": 0.2
             }
            },
            "type": "bar"
           }
          ],
          "barpolar": [
           {
            "marker": {
             "line": {
              "color": "#E5ECF6",
              "width": 0.5
             },
             "pattern": {
              "fillmode": "overlay",
              "size": 10,
              "solidity": 0.2
             }
            },
            "type": "barpolar"
           }
          ],
          "carpet": [
           {
            "aaxis": {
             "endlinecolor": "#2a3f5f",
             "gridcolor": "white",
             "linecolor": "white",
             "minorgridcolor": "white",
             "startlinecolor": "#2a3f5f"
            },
            "baxis": {
             "endlinecolor": "#2a3f5f",
             "gridcolor": "white",
             "linecolor": "white",
             "minorgridcolor": "white",
             "startlinecolor": "#2a3f5f"
            },
            "type": "carpet"
           }
          ],
          "choropleth": [
           {
            "colorbar": {
             "outlinewidth": 0,
             "ticks": ""
            },
            "type": "choropleth"
           }
          ],
          "contour": [
           {
            "colorbar": {
             "outlinewidth": 0,
             "ticks": ""
            },
            "colorscale": [
             [
              0,
              "#0d0887"
             ],
             [
              0.1111111111111111,
              "#46039f"
             ],
             [
              0.2222222222222222,
              "#7201a8"
             ],
             [
              0.3333333333333333,
              "#9c179e"
             ],
             [
              0.4444444444444444,
              "#bd3786"
             ],
             [
              0.5555555555555556,
              "#d8576b"
             ],
             [
              0.6666666666666666,
              "#ed7953"
             ],
             [
              0.7777777777777778,
              "#fb9f3a"
             ],
             [
              0.8888888888888888,
              "#fdca26"
             ],
             [
              1,
              "#f0f921"
             ]
            ],
            "type": "contour"
           }
          ],
          "contourcarpet": [
           {
            "colorbar": {
             "outlinewidth": 0,
             "ticks": ""
            },
            "type": "contourcarpet"
           }
          ],
          "heatmap": [
           {
            "colorbar": {
             "outlinewidth": 0,
             "ticks": ""
            },
            "colorscale": [
             [
              0,
              "#0d0887"
             ],
             [
              0.1111111111111111,
              "#46039f"
             ],
             [
              0.2222222222222222,
              "#7201a8"
             ],
             [
              0.3333333333333333,
              "#9c179e"
             ],
             [
              0.4444444444444444,
              "#bd3786"
             ],
             [
              0.5555555555555556,
              "#d8576b"
             ],
             [
              0.6666666666666666,
              "#ed7953"
             ],
             [
              0.7777777777777778,
              "#fb9f3a"
             ],
             [
              0.8888888888888888,
              "#fdca26"
             ],
             [
              1,
              "#f0f921"
             ]
            ],
            "type": "heatmap"
           }
          ],
          "heatmapgl": [
           {
            "colorbar": {
             "outlinewidth": 0,
             "ticks": ""
            },
            "colorscale": [
             [
              0,
              "#0d0887"
             ],
             [
              0.1111111111111111,
              "#46039f"
             ],
             [
              0.2222222222222222,
              "#7201a8"
             ],
             [
              0.3333333333333333,
              "#9c179e"
             ],
             [
              0.4444444444444444,
              "#bd3786"
             ],
             [
              0.5555555555555556,
              "#d8576b"
             ],
             [
              0.6666666666666666,
              "#ed7953"
             ],
             [
              0.7777777777777778,
              "#fb9f3a"
             ],
             [
              0.8888888888888888,
              "#fdca26"
             ],
             [
              1,
              "#f0f921"
             ]
            ],
            "type": "heatmapgl"
           }
          ],
          "histogram": [
           {
            "marker": {
             "pattern": {
              "fillmode": "overlay",
              "size": 10,
              "solidity": 0.2
             }
            },
            "type": "histogram"
           }
          ],
          "histogram2d": [
           {
            "colorbar": {
             "outlinewidth": 0,
             "ticks": ""
            },
            "colorscale": [
             [
              0,
              "#0d0887"
             ],
             [
              0.1111111111111111,
              "#46039f"
             ],
             [
              0.2222222222222222,
              "#7201a8"
             ],
             [
              0.3333333333333333,
              "#9c179e"
             ],
             [
              0.4444444444444444,
              "#bd3786"
             ],
             [
              0.5555555555555556,
              "#d8576b"
             ],
             [
              0.6666666666666666,
              "#ed7953"
             ],
             [
              0.7777777777777778,
              "#fb9f3a"
             ],
             [
              0.8888888888888888,
              "#fdca26"
             ],
             [
              1,
              "#f0f921"
             ]
            ],
            "type": "histogram2d"
           }
          ],
          "histogram2dcontour": [
           {
            "colorbar": {
             "outlinewidth": 0,
             "ticks": ""
            },
            "colorscale": [
             [
              0,
              "#0d0887"
             ],
             [
              0.1111111111111111,
              "#46039f"
             ],
             [
              0.2222222222222222,
              "#7201a8"
             ],
             [
              0.3333333333333333,
              "#9c179e"
             ],
             [
              0.4444444444444444,
              "#bd3786"
             ],
             [
              0.5555555555555556,
              "#d8576b"
             ],
             [
              0.6666666666666666,
              "#ed7953"
             ],
             [
              0.7777777777777778,
              "#fb9f3a"
             ],
             [
              0.8888888888888888,
              "#fdca26"
             ],
             [
              1,
              "#f0f921"
             ]
            ],
            "type": "histogram2dcontour"
           }
          ],
          "mesh3d": [
           {
            "colorbar": {
             "outlinewidth": 0,
             "ticks": ""
            },
            "type": "mesh3d"
           }
          ],
          "parcoords": [
           {
            "line": {
             "colorbar": {
              "outlinewidth": 0,
              "ticks": ""
             }
            },
            "type": "parcoords"
           }
          ],
          "pie": [
           {
            "automargin": true,
            "type": "pie"
           }
          ],
          "scatter": [
           {
            "marker": {
             "colorbar": {
              "outlinewidth": 0,
              "ticks": ""
             }
            },
            "type": "scatter"
           }
          ],
          "scatter3d": [
           {
            "line": {
             "colorbar": {
              "outlinewidth": 0,
              "ticks": ""
             }
            },
            "marker": {
             "colorbar": {
              "outlinewidth": 0,
              "ticks": ""
             }
            },
            "type": "scatter3d"
           }
          ],
          "scattercarpet": [
           {
            "marker": {
             "colorbar": {
              "outlinewidth": 0,
              "ticks": ""
             }
            },
            "type": "scattercarpet"
           }
          ],
          "scattergeo": [
           {
            "marker": {
             "colorbar": {
              "outlinewidth": 0,
              "ticks": ""
             }
            },
            "type": "scattergeo"
           }
          ],
          "scattergl": [
           {
            "marker": {
             "colorbar": {
              "outlinewidth": 0,
              "ticks": ""
             }
            },
            "type": "scattergl"
           }
          ],
          "scattermapbox": [
           {
            "marker": {
             "colorbar": {
              "outlinewidth": 0,
              "ticks": ""
             }
            },
            "type": "scattermapbox"
           }
          ],
          "scatterpolar": [
           {
            "marker": {
             "colorbar": {
              "outlinewidth": 0,
              "ticks": ""
             }
            },
            "type": "scatterpolar"
           }
          ],
          "scatterpolargl": [
           {
            "marker": {
             "colorbar": {
              "outlinewidth": 0,
              "ticks": ""
             }
            },
            "type": "scatterpolargl"
           }
          ],
          "scatterternary": [
           {
            "marker": {
             "colorbar": {
              "outlinewidth": 0,
              "ticks": ""
             }
            },
            "type": "scatterternary"
           }
          ],
          "surface": [
           {
            "colorbar": {
             "outlinewidth": 0,
             "ticks": ""
            },
            "colorscale": [
             [
              0,
              "#0d0887"
             ],
             [
              0.1111111111111111,
              "#46039f"
             ],
             [
              0.2222222222222222,
              "#7201a8"
             ],
             [
              0.3333333333333333,
              "#9c179e"
             ],
             [
              0.4444444444444444,
              "#bd3786"
             ],
             [
              0.5555555555555556,
              "#d8576b"
             ],
             [
              0.6666666666666666,
              "#ed7953"
             ],
             [
              0.7777777777777778,
              "#fb9f3a"
             ],
             [
              0.8888888888888888,
              "#fdca26"
             ],
             [
              1,
              "#f0f921"
             ]
            ],
            "type": "surface"
           }
          ],
          "table": [
           {
            "cells": {
             "fill": {
              "color": "#EBF0F8"
             },
             "line": {
              "color": "white"
             }
            },
            "header": {
             "fill": {
              "color": "#C8D4E3"
             },
             "line": {
              "color": "white"
             }
            },
            "type": "table"
           }
          ]
         },
         "layout": {
          "annotationdefaults": {
           "arrowcolor": "#2a3f5f",
           "arrowhead": 0,
           "arrowwidth": 1
          },
          "autotypenumbers": "strict",
          "coloraxis": {
           "colorbar": {
            "outlinewidth": 0,
            "ticks": ""
           }
          },
          "colorscale": {
           "diverging": [
            [
             0,
             "#8e0152"
            ],
            [
             0.1,
             "#c51b7d"
            ],
            [
             0.2,
             "#de77ae"
            ],
            [
             0.3,
             "#f1b6da"
            ],
            [
             0.4,
             "#fde0ef"
            ],
            [
             0.5,
             "#f7f7f7"
            ],
            [
             0.6,
             "#e6f5d0"
            ],
            [
             0.7,
             "#b8e186"
            ],
            [
             0.8,
             "#7fbc41"
            ],
            [
             0.9,
             "#4d9221"
            ],
            [
             1,
             "#276419"
            ]
           ],
           "sequential": [
            [
             0,
             "#0d0887"
            ],
            [
             0.1111111111111111,
             "#46039f"
            ],
            [
             0.2222222222222222,
             "#7201a8"
            ],
            [
             0.3333333333333333,
             "#9c179e"
            ],
            [
             0.4444444444444444,
             "#bd3786"
            ],
            [
             0.5555555555555556,
             "#d8576b"
            ],
            [
             0.6666666666666666,
             "#ed7953"
            ],
            [
             0.7777777777777778,
             "#fb9f3a"
            ],
            [
             0.8888888888888888,
             "#fdca26"
            ],
            [
             1,
             "#f0f921"
            ]
           ],
           "sequentialminus": [
            [
             0,
             "#0d0887"
            ],
            [
             0.1111111111111111,
             "#46039f"
            ],
            [
             0.2222222222222222,
             "#7201a8"
            ],
            [
             0.3333333333333333,
             "#9c179e"
            ],
            [
             0.4444444444444444,
             "#bd3786"
            ],
            [
             0.5555555555555556,
             "#d8576b"
            ],
            [
             0.6666666666666666,
             "#ed7953"
            ],
            [
             0.7777777777777778,
             "#fb9f3a"
            ],
            [
             0.8888888888888888,
             "#fdca26"
            ],
            [
             1,
             "#f0f921"
            ]
           ]
          },
          "colorway": [
           "#636efa",
           "#EF553B",
           "#00cc96",
           "#ab63fa",
           "#FFA15A",
           "#19d3f3",
           "#FF6692",
           "#B6E880",
           "#FF97FF",
           "#FECB52"
          ],
          "font": {
           "color": "#2a3f5f"
          },
          "geo": {
           "bgcolor": "white",
           "lakecolor": "white",
           "landcolor": "#E5ECF6",
           "showlakes": true,
           "showland": true,
           "subunitcolor": "white"
          },
          "hoverlabel": {
           "align": "left"
          },
          "hovermode": "closest",
          "mapbox": {
           "style": "light"
          },
          "paper_bgcolor": "white",
          "plot_bgcolor": "#E5ECF6",
          "polar": {
           "angularaxis": {
            "gridcolor": "white",
            "linecolor": "white",
            "ticks": ""
           },
           "bgcolor": "#E5ECF6",
           "radialaxis": {
            "gridcolor": "white",
            "linecolor": "white",
            "ticks": ""
           }
          },
          "scene": {
           "xaxis": {
            "backgroundcolor": "#E5ECF6",
            "gridcolor": "white",
            "gridwidth": 2,
            "linecolor": "white",
            "showbackground": true,
            "ticks": "",
            "zerolinecolor": "white"
           },
           "yaxis": {
            "backgroundcolor": "#E5ECF6",
            "gridcolor": "white",
            "gridwidth": 2,
            "linecolor": "white",
            "showbackground": true,
            "ticks": "",
            "zerolinecolor": "white"
           },
           "zaxis": {
            "backgroundcolor": "#E5ECF6",
            "gridcolor": "white",
            "gridwidth": 2,
            "linecolor": "white",
            "showbackground": true,
            "ticks": "",
            "zerolinecolor": "white"
           }
          },
          "shapedefaults": {
           "line": {
            "color": "#2a3f5f"
           }
          },
          "ternary": {
           "aaxis": {
            "gridcolor": "white",
            "linecolor": "white",
            "ticks": ""
           },
           "baxis": {
            "gridcolor": "white",
            "linecolor": "white",
            "ticks": ""
           },
           "bgcolor": "#E5ECF6",
           "caxis": {
            "gridcolor": "white",
            "linecolor": "white",
            "ticks": ""
           }
          },
          "title": {
           "x": 0.05
          },
          "xaxis": {
           "automargin": true,
           "gridcolor": "white",
           "linecolor": "white",
           "ticks": "",
           "title": {
            "standoff": 15
           },
           "zerolinecolor": "white",
           "zerolinewidth": 2
          },
          "yaxis": {
           "automargin": true,
           "gridcolor": "white",
           "linecolor": "white",
           "ticks": "",
           "title": {
            "standoff": 15
           },
           "zerolinecolor": "white",
           "zerolinewidth": 2
          }
         }
        },
        "xaxis": {
         "anchor": "y",
         "domain": [
          0,
          1
         ],
         "title": {
          "text": "Entity Name"
         }
        },
        "yaxis": {
         "anchor": "x",
         "domain": [
          0,
          1
         ],
         "title": {
          "text": "Revenue (Millions)"
         }
        }
       }
      },
      "text/html": [
       "<div>                            <div id=\"ba3c047a-1538-433b-b72f-a62fc7cbca3f\" class=\"plotly-graph-div\" style=\"height:525px; width:100%;\"></div>            <script type=\"text/javascript\">                require([\"plotly\"], function(Plotly) {                    window.PLOTLYENV=window.PLOTLYENV || {};                                    if (document.getElementById(\"ba3c047a-1538-433b-b72f-a62fc7cbca3f\")) {                    Plotly.newPlot(                        \"ba3c047a-1538-433b-b72f-a62fc7cbca3f\",                        [{\"alignmentgroup\":\"True\",\"hovertemplate\":\"Entity Name=%{x}<br>value=%{y}<br>color=%{marker.color}<extra></extra>\",\"legendgroup\":\"\",\"marker\":{\"color\":[0,1,2,3,4,5,6,7,8,9],\"coloraxis\":\"coloraxis\",\"pattern\":{\"shape\":\"\"}},\"name\":\"\",\"offsetgroup\":\"\",\"orientation\":\"v\",\"showlegend\":false,\"textposition\":\"auto\",\"x\":[\"Los Angeles County Metropolitan Transportation Authority\",\"San Francisco Bay Area Rapid Transit District\",\"San Francisco\",\"Santa Clara Valley Transportation Authority\",\"Alameda-Contra Costa Transit District\",\"Orange County Transportation Authority\",\"Southern California Regional Rail Authority\",\"Peninsula Corridor Joint Powers Board\",\"Sacramento Regional Transit System\",\"Access Services for Los Angeles County CTSA - Specialized Service\"],\"xaxis\":\"x\",\"y\":[49736841.46196404,24386215.21300138,19642480.04702628,15515977.621023513,10667723.080221301,7178124.446749655,6601347.035961272,5309230.611341632,4677963.203319502,4674739.220588235],\"yaxis\":\"y\",\"type\":\"bar\"}],                        {\"template\":{\"data\":{\"bar\":[{\"error_x\":{\"color\":\"#2a3f5f\"},\"error_y\":{\"color\":\"#2a3f5f\"},\"marker\":{\"line\":{\"color\":\"#E5ECF6\",\"width\":0.5},\"pattern\":{\"fillmode\":\"overlay\",\"size\":10,\"solidity\":0.2}},\"type\":\"bar\"}],\"barpolar\":[{\"marker\":{\"line\":{\"color\":\"#E5ECF6\",\"width\":0.5},\"pattern\":{\"fillmode\":\"overlay\",\"size\":10,\"solidity\":0.2}},\"type\":\"barpolar\"}],\"carpet\":[{\"aaxis\":{\"endlinecolor\":\"#2a3f5f\",\"gridcolor\":\"white\",\"linecolor\":\"white\",\"minorgridcolor\":\"white\",\"startlinecolor\":\"#2a3f5f\"},\"baxis\":{\"endlinecolor\":\"#2a3f5f\",\"gridcolor\":\"white\",\"linecolor\":\"white\",\"minorgridcolor\":\"white\",\"startlinecolor\":\"#2a3f5f\"},\"type\":\"carpet\"}],\"choropleth\":[{\"colorbar\":{\"outlinewidth\":0,\"ticks\":\"\"},\"type\":\"choropleth\"}],\"contour\":[{\"colorbar\":{\"outlinewidth\":0,\"ticks\":\"\"},\"colorscale\":[[0.0,\"#0d0887\"],[0.1111111111111111,\"#46039f\"],[0.2222222222222222,\"#7201a8\"],[0.3333333333333333,\"#9c179e\"],[0.4444444444444444,\"#bd3786\"],[0.5555555555555556,\"#d8576b\"],[0.6666666666666666,\"#ed7953\"],[0.7777777777777778,\"#fb9f3a\"],[0.8888888888888888,\"#fdca26\"],[1.0,\"#f0f921\"]],\"type\":\"contour\"}],\"contourcarpet\":[{\"colorbar\":{\"outlinewidth\":0,\"ticks\":\"\"},\"type\":\"contourcarpet\"}],\"heatmap\":[{\"colorbar\":{\"outlinewidth\":0,\"ticks\":\"\"},\"colorscale\":[[0.0,\"#0d0887\"],[0.1111111111111111,\"#46039f\"],[0.2222222222222222,\"#7201a8\"],[0.3333333333333333,\"#9c179e\"],[0.4444444444444444,\"#bd3786\"],[0.5555555555555556,\"#d8576b\"],[0.6666666666666666,\"#ed7953\"],[0.7777777777777778,\"#fb9f3a\"],[0.8888888888888888,\"#fdca26\"],[1.0,\"#f0f921\"]],\"type\":\"heatmap\"}],\"heatmapgl\":[{\"colorbar\":{\"outlinewidth\":0,\"ticks\":\"\"},\"colorscale\":[[0.0,\"#0d0887\"],[0.1111111111111111,\"#46039f\"],[0.2222222222222222,\"#7201a8\"],[0.3333333333333333,\"#9c179e\"],[0.4444444444444444,\"#bd3786\"],[0.5555555555555556,\"#d8576b\"],[0.6666666666666666,\"#ed7953\"],[0.7777777777777778,\"#fb9f3a\"],[0.8888888888888888,\"#fdca26\"],[1.0,\"#f0f921\"]],\"type\":\"heatmapgl\"}],\"histogram\":[{\"marker\":{\"pattern\":{\"fillmode\":\"overlay\",\"size\":10,\"solidity\":0.2}},\"type\":\"histogram\"}],\"histogram2d\":[{\"colorbar\":{\"outlinewidth\":0,\"ticks\":\"\"},\"colorscale\":[[0.0,\"#0d0887\"],[0.1111111111111111,\"#46039f\"],[0.2222222222222222,\"#7201a8\"],[0.3333333333333333,\"#9c179e\"],[0.4444444444444444,\"#bd3786\"],[0.5555555555555556,\"#d8576b\"],[0.6666666666666666,\"#ed7953\"],[0.7777777777777778,\"#fb9f3a\"],[0.8888888888888888,\"#fdca26\"],[1.0,\"#f0f921\"]],\"type\":\"histogram2d\"}],\"histogram2dcontour\":[{\"colorbar\":{\"outlinewidth\":0,\"ticks\":\"\"},\"colorscale\":[[0.0,\"#0d0887\"],[0.1111111111111111,\"#46039f\"],[0.2222222222222222,\"#7201a8\"],[0.3333333333333333,\"#9c179e\"],[0.4444444444444444,\"#bd3786\"],[0.5555555555555556,\"#d8576b\"],[0.6666666666666666,\"#ed7953\"],[0.7777777777777778,\"#fb9f3a\"],[0.8888888888888888,\"#fdca26\"],[1.0,\"#f0f921\"]],\"type\":\"histogram2dcontour\"}],\"mesh3d\":[{\"colorbar\":{\"outlinewidth\":0,\"ticks\":\"\"},\"type\":\"mesh3d\"}],\"parcoords\":[{\"line\":{\"colorbar\":{\"outlinewidth\":0,\"ticks\":\"\"}},\"type\":\"parcoords\"}],\"pie\":[{\"automargin\":true,\"type\":\"pie\"}],\"scatter\":[{\"marker\":{\"colorbar\":{\"outlinewidth\":0,\"ticks\":\"\"}},\"type\":\"scatter\"}],\"scatter3d\":[{\"line\":{\"colorbar\":{\"outlinewidth\":0,\"ticks\":\"\"}},\"marker\":{\"colorbar\":{\"outlinewidth\":0,\"ticks\":\"\"}},\"type\":\"scatter3d\"}],\"scattercarpet\":[{\"marker\":{\"colorbar\":{\"outlinewidth\":0,\"ticks\":\"\"}},\"type\":\"scattercarpet\"}],\"scattergeo\":[{\"marker\":{\"colorbar\":{\"outlinewidth\":0,\"ticks\":\"\"}},\"type\":\"scattergeo\"}],\"scattergl\":[{\"marker\":{\"colorbar\":{\"outlinewidth\":0,\"ticks\":\"\"}},\"type\":\"scattergl\"}],\"scattermapbox\":[{\"marker\":{\"colorbar\":{\"outlinewidth\":0,\"ticks\":\"\"}},\"type\":\"scattermapbox\"}],\"scatterpolar\":[{\"marker\":{\"colorbar\":{\"outlinewidth\":0,\"ticks\":\"\"}},\"type\":\"scatterpolar\"}],\"scatterpolargl\":[{\"marker\":{\"colorbar\":{\"outlinewidth\":0,\"ticks\":\"\"}},\"type\":\"scatterpolargl\"}],\"scatterternary\":[{\"marker\":{\"colorbar\":{\"outlinewidth\":0,\"ticks\":\"\"}},\"type\":\"scatterternary\"}],\"surface\":[{\"colorbar\":{\"outlinewidth\":0,\"ticks\":\"\"},\"colorscale\":[[0.0,\"#0d0887\"],[0.1111111111111111,\"#46039f\"],[0.2222222222222222,\"#7201a8\"],[0.3333333333333333,\"#9c179e\"],[0.4444444444444444,\"#bd3786\"],[0.5555555555555556,\"#d8576b\"],[0.6666666666666666,\"#ed7953\"],[0.7777777777777778,\"#fb9f3a\"],[0.8888888888888888,\"#fdca26\"],[1.0,\"#f0f921\"]],\"type\":\"surface\"}],\"table\":[{\"cells\":{\"fill\":{\"color\":\"#EBF0F8\"},\"line\":{\"color\":\"white\"}},\"header\":{\"fill\":{\"color\":\"#C8D4E3\"},\"line\":{\"color\":\"white\"}},\"type\":\"table\"}]},\"layout\":{\"annotationdefaults\":{\"arrowcolor\":\"#2a3f5f\",\"arrowhead\":0,\"arrowwidth\":1},\"autotypenumbers\":\"strict\",\"coloraxis\":{\"colorbar\":{\"outlinewidth\":0,\"ticks\":\"\"}},\"colorscale\":{\"diverging\":[[0,\"#8e0152\"],[0.1,\"#c51b7d\"],[0.2,\"#de77ae\"],[0.3,\"#f1b6da\"],[0.4,\"#fde0ef\"],[0.5,\"#f7f7f7\"],[0.6,\"#e6f5d0\"],[0.7,\"#b8e186\"],[0.8,\"#7fbc41\"],[0.9,\"#4d9221\"],[1,\"#276419\"]],\"sequential\":[[0.0,\"#0d0887\"],[0.1111111111111111,\"#46039f\"],[0.2222222222222222,\"#7201a8\"],[0.3333333333333333,\"#9c179e\"],[0.4444444444444444,\"#bd3786\"],[0.5555555555555556,\"#d8576b\"],[0.6666666666666666,\"#ed7953\"],[0.7777777777777778,\"#fb9f3a\"],[0.8888888888888888,\"#fdca26\"],[1.0,\"#f0f921\"]],\"sequentialminus\":[[0.0,\"#0d0887\"],[0.1111111111111111,\"#46039f\"],[0.2222222222222222,\"#7201a8\"],[0.3333333333333333,\"#9c179e\"],[0.4444444444444444,\"#bd3786\"],[0.5555555555555556,\"#d8576b\"],[0.6666666666666666,\"#ed7953\"],[0.7777777777777778,\"#fb9f3a\"],[0.8888888888888888,\"#fdca26\"],[1.0,\"#f0f921\"]]},\"colorway\":[\"#636efa\",\"#EF553B\",\"#00cc96\",\"#ab63fa\",\"#FFA15A\",\"#19d3f3\",\"#FF6692\",\"#B6E880\",\"#FF97FF\",\"#FECB52\"],\"font\":{\"color\":\"#2a3f5f\"},\"geo\":{\"bgcolor\":\"white\",\"lakecolor\":\"white\",\"landcolor\":\"#E5ECF6\",\"showlakes\":true,\"showland\":true,\"subunitcolor\":\"white\"},\"hoverlabel\":{\"align\":\"left\"},\"hovermode\":\"closest\",\"mapbox\":{\"style\":\"light\"},\"paper_bgcolor\":\"white\",\"plot_bgcolor\":\"#E5ECF6\",\"polar\":{\"angularaxis\":{\"gridcolor\":\"white\",\"linecolor\":\"white\",\"ticks\":\"\"},\"bgcolor\":\"#E5ECF6\",\"radialaxis\":{\"gridcolor\":\"white\",\"linecolor\":\"white\",\"ticks\":\"\"}},\"scene\":{\"xaxis\":{\"backgroundcolor\":\"#E5ECF6\",\"gridcolor\":\"white\",\"gridwidth\":2,\"linecolor\":\"white\",\"showbackground\":true,\"ticks\":\"\",\"zerolinecolor\":\"white\"},\"yaxis\":{\"backgroundcolor\":\"#E5ECF6\",\"gridcolor\":\"white\",\"gridwidth\":2,\"linecolor\":\"white\",\"showbackground\":true,\"ticks\":\"\",\"zerolinecolor\":\"white\"},\"zaxis\":{\"backgroundcolor\":\"#E5ECF6\",\"gridcolor\":\"white\",\"gridwidth\":2,\"linecolor\":\"white\",\"showbackground\":true,\"ticks\":\"\",\"zerolinecolor\":\"white\"}},\"shapedefaults\":{\"line\":{\"color\":\"#2a3f5f\"}},\"ternary\":{\"aaxis\":{\"gridcolor\":\"white\",\"linecolor\":\"white\",\"ticks\":\"\"},\"baxis\":{\"gridcolor\":\"white\",\"linecolor\":\"white\",\"ticks\":\"\"},\"bgcolor\":\"#E5ECF6\",\"caxis\":{\"gridcolor\":\"white\",\"linecolor\":\"white\",\"ticks\":\"\"}},\"title\":{\"x\":0.05},\"xaxis\":{\"automargin\":true,\"gridcolor\":\"white\",\"linecolor\":\"white\",\"ticks\":\"\",\"title\":{\"standoff\":15},\"zerolinecolor\":\"white\",\"zerolinewidth\":2},\"yaxis\":{\"automargin\":true,\"gridcolor\":\"white\",\"linecolor\":\"white\",\"ticks\":\"\",\"title\":{\"standoff\":15},\"zerolinecolor\":\"white\",\"zerolinewidth\":2}}},\"xaxis\":{\"anchor\":\"y\",\"domain\":[0.0,1.0],\"title\":{\"text\":\"Entity Name\"}},\"yaxis\":{\"anchor\":\"x\",\"domain\":[0.0,1.0],\"title\":{\"text\":\"Revenue (Millions)\"}},\"coloraxis\":{\"colorbar\":{\"title\":{\"text\":\"color\"}},\"colorscale\":[[0.0,\"#0d0887\"],[0.1111111111111111,\"#46039f\"],[0.2222222222222222,\"#7201a8\"],[0.3333333333333333,\"#9c179e\"],[0.4444444444444444,\"#bd3786\"],[0.5555555555555556,\"#d8576b\"],[0.6666666666666666,\"#ed7953\"],[0.7777777777777778,\"#fb9f3a\"],[0.8888888888888888,\"#fdca26\"],[1.0,\"#f0f921\"]],\"showscale\":false},\"legend\":{\"tracegroupgap\":0},\"margin\":{\"t\":60},\"barmode\":\"relative\"},                        {\"responsive\": true}                    ).then(function(){\n",
       "                            \n",
       "var gd = document.getElementById('ba3c047a-1538-433b-b72f-a62fc7cbca3f');\n",
       "var x = new MutationObserver(function (mutations, observer) {{\n",
       "        var display = window.getComputedStyle(gd).display;\n",
       "        if (!display || display === 'none') {{\n",
       "            console.log([gd, 'removed!']);\n",
       "            Plotly.purge(gd);\n",
       "            observer.disconnect();\n",
       "        }}\n",
       "}});\n",
       "\n",
       "// Listen for the removal of the full notebook cells\n",
       "var notebookContainer = gd.closest('#notebook-container');\n",
       "if (notebookContainer) {{\n",
       "    x.observe(notebookContainer, {childList: true});\n",
       "}}\n",
       "\n",
       "// Listen for the clearing of the current output cell\n",
       "var outputEl = gd.closest('.output');\n",
       "if (outputEl) {{\n",
       "    x.observe(outputEl, {childList: true});\n",
       "}}\n",
       "\n",
       "                        })                };                });            </script>        </div>"
      ]
     },
     "metadata": {},
     "output_type": "display_data"
    }
   ],
   "source": [
    "df_largest = df.groupby('Entity Name')['Value'].mean().nlargest(10)\n",
    "fig = px.bar(df_largest, color=range(0,len(df_largest)))\n",
    "fig.update_layout(yaxis_title='Revenue (Millions)')\n",
    "fig.update(layout_coloraxis_showscale=False)\n",
    "fig.show()"
   ]
  },
  {
   "cell_type": "code",
   "execution_count": null,
   "id": "9d4b6f3b",
   "metadata": {},
   "outputs": [],
   "source": []
  }
 ],
 "metadata": {
  "kernelspec": {
   "display_name": "Python 3 (ipykernel)",
   "language": "python",
   "name": "python3"
  },
  "language_info": {
   "codemirror_mode": {
    "name": "ipython",
    "version": 3
   },
   "file_extension": ".py",
   "mimetype": "text/x-python",
   "name": "python",
   "nbconvert_exporter": "python",
   "pygments_lexer": "ipython3",
   "version": "3.9.12"
  }
 },
 "nbformat": 4,
 "nbformat_minor": 5
}
